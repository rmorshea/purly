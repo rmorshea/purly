{
 "cells": [
  {
   "cell_type": "code",
   "execution_count": 1,
   "metadata": {
    "scrolled": false
   },
   "outputs": [],
   "source": [
    "import purly\n",
    "import webbrowser\n",
    "# if you're running on mybinder.org\n",
    "# localhost does not return 127.0.0.1\n",
    "from example_utils import localhost"
   ]
  },
  {
   "cell_type": "markdown",
   "metadata": {},
   "source": [
    "# A Source Of Truth\n",
    "\n",
    "The core problem that Purly solves is data synchronization between clients - in order to allow Python to control a webpage's Document Object Model (DOM) both Python and the webpage need to share their states with eachother. Purly accomplished this by running a server which acts as a \"source of truth\" for its clients. This server can be run in its own process via `Machine.run`, but to get started right away we'll use `Machine.daemon` which runs a subprocess."
   ]
  },
  {
   "cell_type": "code",
   "execution_count": 2,
   "metadata": {},
   "outputs": [
    {
     "name": "stdout",
     "output_type": "stream",
     "text": [
      "[2018-06-20 01:55:49 -0700] [42460] [DEBUG] \n",
      "                 ▄▄▄▄▄\n",
      "        ▀▀▀██████▄▄▄       _______________\n",
      "      ▄▄▄▄▄  █████████▄  /                 \\\n",
      "     ▀▀▀▀█████▌ ▀▐▄ ▀▐█ |   Gotta go fast!  |\n",
      "   ▀▀█████▄▄ ▀██████▄██ | _________________/\n",
      "   ▀▄▄▄▄▄  ▀▀█▄▀█════█▀ |/\n",
      "        ▀▀▀▄  ▀▀███ ▀       ▄▄\n",
      "     ▄███▀▀██▄████████▄ ▄▀▀▀▀▀▀█▌\n",
      "   ██▀▄▄▄██▀▄███▀ ▀▀████      ▄██\n",
      "▄▀▀▀▄██▄▀▀▌████▒▒▒▒▒▒███     ▌▄▄▀\n",
      "▌    ▐▀████▐███▒▒▒▒▒▐██▌\n",
      "▀▄▄▄▄▀   ▀▀████▒▒▒▒▄██▀\n",
      "          ▀▀█████████▀\n",
      "        ▄▄██▀██████▀█\n",
      "      ▄██▀     ▀▀▀  █\n",
      "     ▄█             ▐▌\n",
      " ▄▄▄▄█▌              ▀█▄▄▄▄▀▀▄\n",
      "▌     ▐                ▀▀▄▄▄▀\n",
      " ▀▀▄▄▀\n",
      "[2018-06-20 01:55:49 -0700] [42460] [INFO] Goin' Fast @ http://127.0.0.1:8000\n",
      "\n",
      "[2018-06-20 01:55:50 -0700] [42460] [INFO] Starting worker [42460]\n",
      "[2018-06-20 01:55:51 -0700] - (sanic.access)[INFO][1:2]: GET http://127.0.0.1:8000/model/example-model/index  200 569\n",
      "[2018-06-20 01:55:51 -0700] - (sanic.access)[INFO][1:2]: GET http://127.0.0.1:8000/static/css/main.d41d8cd9.css  304 0\n",
      "[2018-06-20 01:55:51 -0700] - (sanic.access)[INFO][1:2]: GET http://127.0.0.1:8000/static/js/main.10e5c7d3.js  304 0\n",
      "[2018-06-20 01:55:56 -0700] [42460] [INFO] KeepAlive Timeout. Closing connection.\n",
      "[2018-06-20 01:55:56 -0700] [42460] [INFO] KeepAlive Timeout. Closing connection.\n",
      "[2018-06-20 01:56:13 -0700] - (sanic.access)[INFO][1:2]: GET http://127.0.0.1:8000/model/example-model/index  200 569\n",
      "[2018-06-20 01:56:18 -0700] [42460] [INFO] KeepAlive Timeout. Closing connection.\n"
     ]
    }
   ],
   "source": [
    "purly.state.Machine().daemon(debug=True)"
   ]
  },
  {
   "cell_type": "markdown",
   "metadata": {},
   "source": [
    "To start using the Purly model server we'll need to specify the name of the model (``model_name``) our client will view and update. We'll also need to get a URL that we can use to connect to the server. There are two relevant routes."
   ]
  },
  {
   "cell_type": "code",
   "execution_count": 3,
   "metadata": {},
   "outputs": [
    {
     "name": "stdout",
     "output_type": "stream",
     "text": [
      "Get a webpage that streams layout updates via a websocket:\n",
      "http://127.0.0.1:8000/model/example-model/index\n",
      "\n",
      "Websockets use this route to stream layout updates:\n",
      "ws://127.0.0.1:8000/model/example-model/stream\n"
     ]
    }
   ],
   "source": [
    "model_name = \"/example-model\"\n",
    "\n",
    "webpage_url = localhost('http', 8000) + '/model' + model_name + '/index'\n",
    "websocket_url = localhost('ws', 8000) + '/model' + model_name + '/stream'\n",
    "\n",
    "print('Get a webpage that streams layout updates via a websocket:')\n",
    "print(webpage_url)\n",
    "print()\n",
    "print('Websockets use this route to stream layout updates:')\n",
    "print(websocket_url)"
   ]
  },
  {
   "cell_type": "markdown",
   "metadata": {},
   "source": [
    "# Making Layouts"
   ]
  },
  {
   "cell_type": "code",
   "execution_count": 4,
   "metadata": {},
   "outputs": [],
   "source": [
    "layout = purly.Layout(websocket_url)"
   ]
  },
  {
   "cell_type": "code",
   "execution_count": 5,
   "metadata": {},
   "outputs": [],
   "source": [
    "div = layout.html('div')\n",
    "layout.children.append(div)\n",
    "div.style.update(height='20px', width='20px', backgroundColor='red')"
   ]
  },
  {
   "cell_type": "markdown",
   "metadata": {},
   "source": [
    "Now that you've made a layout you need to sync it with the model server with `Layout.sync`"
   ]
  },
  {
   "cell_type": "code",
   "execution_count": 6,
   "metadata": {},
   "outputs": [],
   "source": [
    "layout.sync()"
   ]
  },
  {
   "cell_type": "markdown",
   "metadata": {},
   "source": [
    "# Display Output\n",
    "\n",
    "Since we're trying to create visual results in the browser we need to show our work. There are a couple ways to do this:\n",
    "\n",
    "\n",
    "1. **In the notebook**:\n",
    "    1. Display the `Layout` object in a cell.\n",
    "    2. Use `purly.display.output` with a websocket route.\n",
    "2. **In your browser**:\n",
    "    1. Open a new window and go to `http://my-model-server/<model>`."
   ]
  },
  {
   "cell_type": "code",
   "execution_count": 7,
   "metadata": {},
   "outputs": [
    {
     "data": {
      "text/html": [
       "\n",
       "        <script>\n",
       "          function resizeIframe(obj) {\n",
       "            obj.style.height = obj.contentWindow.document.body.scrollHeight + 'px';\n",
       "          }\n",
       "        </script>\n",
       "        <iframe src='http://127.0.0.1:8000/model/example-model/index' frameBorder=\"0\" scrolling=\"no\" onload=\"resizeIframe(this)\"></iframe>\n",
       "        "
      ],
      "text/plain": [
       "<purly.layout.Layout at 0x104ea12b0>"
      ]
     },
     "execution_count": 7,
     "metadata": {},
     "output_type": "execute_result"
    }
   ],
   "source": [
    "layout"
   ]
  },
  {
   "cell_type": "code",
   "execution_count": 8,
   "metadata": {},
   "outputs": [],
   "source": [
    "if not webbrowser.open(webpage_url):\n",
    "    print(\"Open up a new browser window at %s\" % webpage_url)"
   ]
  },
  {
   "cell_type": "markdown",
   "metadata": {},
   "source": [
    "# Realtime Updates\n",
    "\n",
    "Because all the displays above are connected to the same model on the same server. They can all be synced in realtime!"
   ]
  },
  {
   "cell_type": "code",
   "execution_count": 9,
   "metadata": {},
   "outputs": [],
   "source": [
    "div.style['backgroundColor'] = 'blue'"
   ]
  },
  {
   "cell_type": "code",
   "execution_count": 10,
   "metadata": {},
   "outputs": [],
   "source": [
    "layout.sync()"
   ]
  },
  {
   "cell_type": "markdown",
   "metadata": {},
   "source": [
    "Check out the webpage too. Even it got updated!"
   ]
  },
  {
   "cell_type": "code",
   "execution_count": null,
   "metadata": {},
   "outputs": [],
   "source": []
  }
 ],
 "metadata": {
  "kernelspec": {
   "display_name": "Python (Py3)",
   "language": "python",
   "name": "py3"
  },
  "language_info": {
   "codemirror_mode": {
    "name": "ipython",
    "version": 3
   },
   "file_extension": ".py",
   "mimetype": "text/x-python",
   "name": "python",
   "nbconvert_exporter": "python",
   "pygments_lexer": "ipython3",
   "version": "3.6.5"
  }
 },
 "nbformat": 4,
 "nbformat_minor": 2
}
