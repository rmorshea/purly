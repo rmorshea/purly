{
 "cells": [
  {
   "cell_type": "code",
   "execution_count": null,
   "metadata": {},
   "outputs": [],
   "source": [
    "import sys\n",
    "import math\n",
    "import purly\n",
    "from example_utils import localhost\n",
    "purly.state.Machine(0.01).daemon()"
   ]
  },
  {
   "cell_type": "code",
   "execution_count": null,
   "metadata": {},
   "outputs": [],
   "source": [
    "model_name = \"/example-model\"\n",
    "\n",
    "webpage_url = localhost('http', 8000) + '/model' + model_name + '/index'\n",
    "websocket_url = localhost('ws', 8000) + '/model' + model_name + '/stream'"
   ]
  },
  {
   "cell_type": "code",
   "execution_count": null,
   "metadata": {},
   "outputs": [],
   "source": [
    "layout = purly.Layout(websocket_url)\n",
    "bar = layout.html('div')\n",
    "style = dict(\n",
    "    height=\"100px\",\n",
    "    width=\"100px\",\n",
    "    backgroundColor=\"hsl(120, 100%, 50%)\",\n",
    "    borderRadius=\"50%\",\n",
    ")\n",
    "bar.style.update(style)\n",
    "layout.children.append(bar)"
   ]
  },
  {
   "cell_type": "code",
   "execution_count": null,
   "metadata": {},
   "outputs": [],
   "source": [
    "layout"
   ]
  },
  {
   "cell_type": "code",
   "execution_count": null,
   "metadata": {},
   "outputs": [],
   "source": [
    "@bar.on('MouseMove')\n",
    "def printer(clientX, clientY):\n",
    "    clientY -= 50\n",
    "    clientX -= 50\n",
    "    degrees = int(math.atan2(clientX, clientY) * 180 / math.pi)\n",
    "    radius = int((clientX ** 2 + clientY **2) ** 0.5)\n",
    "    bar.style[\"backgroundColor\"] = \"hsl(%s, 100%%, %s%%)\" % (degrees, radius * 2)"
   ]
  },
  {
   "cell_type": "code",
   "execution_count": null,
   "metadata": {},
   "outputs": [],
   "source": [
    "layout.serve()"
   ]
  },
  {
   "cell_type": "code",
   "execution_count": null,
   "metadata": {},
   "outputs": [],
   "source": []
  }
 ],
 "metadata": {
  "kernelspec": {
   "display_name": "Python 3",
   "language": "python",
   "name": "python3"
  },
  "language_info": {
   "codemirror_mode": {
    "name": "ipython",
    "version": 3
   },
   "file_extension": ".py",
   "mimetype": "text/x-python",
   "name": "python",
   "nbconvert_exporter": "python",
   "pygments_lexer": "ipython3",
   "version": "3.6.6"
  }
 },
 "nbformat": 4,
 "nbformat_minor": 2
}
