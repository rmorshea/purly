{
 "cells": [
  {
   "cell_type": "markdown",
   "metadata": {},
   "source": [
    "# Color Wheel\n",
    "\n",
    "For this example we'll be making a simple color picker that's powered by python."
   ]
  },
  {
   "cell_type": "code",
   "execution_count": 1,
   "metadata": {},
   "outputs": [],
   "source": [
    "import sys\n",
    "import math\n",
    "import purly"
   ]
  },
  {
   "cell_type": "markdown",
   "metadata": {},
   "source": [
    "To set things up we'll need to stand up our model server. By default the server has a max refresh rate of `25` hertz. However for this example to be convincingly smooth we'll want to bump that up to about `60`. If you want to unlock the refresh rate set `refresh=None`. We'll then hook up a layout object to a model resource (see the introductory example  or [read the docs](https://github.com/rmorshea/purly#purly) if this doesn't make sense)."
   ]
  },
  {
   "cell_type": "code",
   "execution_count": 2,
   "metadata": {},
   "outputs": [
    {
     "name": "stdout",
     "output_type": "stream",
     "text": [
      "[2018-07-26 23:57:10 -0700] [9255] [INFO] Goin' Fast @ http://127.0.0.1:8000\n",
      "[2018-07-26 23:57:10 -0700] [9255] [INFO] Starting worker [9255]\n",
      "[2018-07-26 23:57:13 -0700] [9255] [ERROR] Traceback (most recent call last):\n",
      "  File \"/home/ryan/conda/envs/Py3.6/lib/python3.6/site-packages/sanic/app.py\", line 556, in handle_request\n",
      "    response = await response\n",
      "  File \"/home/ryan/Desktop/purly/purly/state.py\", line 15, in _index\n",
      "    return await response.file(absolute)\n",
      "  File \"/home/ryan/conda/envs/Py3.6/lib/python3.6/site-packages/sanic/response.py\", line 304, in file\n",
      "    async with open_async(location, mode='rb') as _file:\n",
      "  File \"/home/ryan/conda/envs/Py3.6/lib/python3.6/site-packages/aiofiles/base.py\", line 83, in __aenter__\n",
      "    self._obj = yield from self._coro\n",
      "  File \"/home/ryan/conda/envs/Py3.6/lib/python3.6/site-packages/aiofiles/threadpool/__init__.py\", line 36, in _open\n",
      "    f = yield from loop.run_in_executor(executor, cb)\n",
      "  File \"/home/ryan/conda/envs/Py3.6/lib/python3.6/concurrent/futures/thread.py\", line 56, in run\n",
      "    result = self.fn(*self.args, **self.kwargs)\n",
      "FileNotFoundError: [Errno 2] No such file or directory: '/home/ryan/Desktop/purly/purly/react/build/index.html'\n",
      "\n",
      "[2018-07-26 23:57:13 -0700] - (sanic.access)[INFO][1:2]: GET http://127.0.0.1:8000/model/color-wheel/assets/index.html  500 144\n",
      "[2018-07-26 23:57:18 -0700] [9255] [INFO] KeepAlive Timeout. Closing connection.\n"
     ]
    }
   ],
   "source": [
    "from example_utils import localhost\n",
    "\n",
    "# increase model server refresh cap to 60 hertz.\n",
    "purly.state.Machine(refresh=60).daemon()\n",
    "\n",
    "# name the layout resource \"color-wheel\" and connect to the update stream\n",
    "websocket_url = localhost('ws', 8000) + '/model/color-wheel/stream'\n",
    "layout = purly.Layout(websocket_url)"
   ]
  },
  {
   "cell_type": "markdown",
   "metadata": {},
   "source": [
    "To do this we'll need a simple function that will create an HSL (hue, saturation, and lightness) color string. The function will accept the radius of the color picker wheel, and the x-y position of the mouse in order to select a color based on the angle around the circle, and distance from the center."
   ]
  },
  {
   "cell_type": "code",
   "execution_count": 3,
   "metadata": {},
   "outputs": [],
   "source": [
    "def hsl(radius, x, y):\n",
    "    \"\"\"Return an HSL color string.\"\"\"\n",
    "    x -= radius\n",
    "    y -= radius\n",
    "    unit_radius = int((x ** 2 + y **2) ** 0.5) / radius\n",
    "    degrees = int(math.atan2(x, y) * 180 / math.pi)\n",
    "    return \"hsl(%s, 100%%, %s%%)\" % (degrees, unit_radius * 100)"
   ]
  },
  {
   "cell_type": "markdown",
   "metadata": {},
   "source": [
    "Next we'll need style up the the color wheel, and a selection indicator."
   ]
  },
  {
   "cell_type": "code",
   "execution_count": 4,
   "metadata": {},
   "outputs": [],
   "source": [
    "radius = 50\n",
    "wheel = layout.html('div')\n",
    "wheel.style.update(\n",
    "    height=\"%spx\" % (radius * 2),\n",
    "    width=\"%spx\" % (radius * 2),\n",
    "    backgroundColor=\"hsl(120, 100%, 50%)\",\n",
    "    borderRadius=\"50%\",\n",
    ")"
   ]
  },
  {
   "cell_type": "code",
   "execution_count": 5,
   "metadata": {},
   "outputs": [],
   "source": [
    "selection = layout.html('div')\n",
    "selection.style.update(\n",
    "    height=\"20px\",\n",
    "    width=\"20px\",\n",
    "    backgroundColor=\"hsl(120, 100%, 50%)\",\n",
    ")"
   ]
  },
  {
   "cell_type": "code",
   "execution_count": 6,
   "metadata": {},
   "outputs": [
    {
     "data": {
      "text/html": [
       "<iframe src='http://127.0.0.1:8000/model/color-wheel/assets/index.html' frameBorder=\"0\"></iframe>"
      ],
      "text/plain": [
       "<purly.layout.Layout at 0x7fefd1591668>"
      ]
     },
     "execution_count": 6,
     "metadata": {},
     "output_type": "execute_result"
    }
   ],
   "source": [
    "layout.children.append(wheel)\n",
    "layout.children.append(selection)\n",
    "layout.sync()\n",
    "layout"
   ]
  },
  {
   "cell_type": "markdown",
   "metadata": {},
   "source": [
    "You should now see the color wheel and selector indicator in the output above!\n",
    "\n",
    "However when you mouse over the wheel nothing happens, so we'll need to hook into some mouse events to make the display animate. To do that requires the `onMouseMove` and `onClick` events which can be captures via the `on` decorator of the `wheel` element. The underlying logic of each is actually pretty simple:\n",
    "\n",
    "1. `onMouseMove`: if the mouse moves over the color wheel, then set the color wheel to the HSL color that corresponds to its x-y position.\n",
    "2. `onClick`: if the mouse clicks on the wheel, set the selection indicator to the corresponding HSL color."
   ]
  },
  {
   "cell_type": "code",
   "execution_count": null,
   "metadata": {},
   "outputs": [],
   "source": [
    "@wheel.on('MouseMove')\n",
    "def cause_color_change(clientX, clientY):\n",
    "    wheel.style[\"backgroundColor\"] = hsl(50, clientX, clientY)\n",
    "\n",
    "@wheel.on(\"Click\")\n",
    "def cause_color_select(clientX, clientY):\n",
    "    selection.style[\"backgroundColor\"] = hsl(50, clientX, clientY)"
   ]
  },
  {
   "cell_type": "markdown",
   "metadata": {},
   "source": [
    "Finally we'll need to serve up our event handlers in order to animate."
   ]
  },
  {
   "cell_type": "code",
   "execution_count": null,
   "metadata": {},
   "outputs": [],
   "source": [
    "layout.serve()"
   ]
  },
  {
   "cell_type": "markdown",
   "metadata": {},
   "source": [
    "Now mouse over the wheel and try selecting a color!"
   ]
  },
  {
   "cell_type": "code",
   "execution_count": null,
   "metadata": {},
   "outputs": [],
   "source": []
  }
 ],
 "metadata": {
  "kernelspec": {
   "display_name": "Python 3",
   "language": "python",
   "name": "python3"
  },
  "language_info": {
   "codemirror_mode": {
    "name": "ipython",
    "version": 3
   },
   "file_extension": ".py",
   "mimetype": "text/x-python",
   "name": "python",
   "nbconvert_exporter": "python",
   "pygments_lexer": "ipython3",
   "version": "3.6.6"
  }
 },
 "nbformat": 4,
 "nbformat_minor": 2
}
