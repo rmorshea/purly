{
 "cells": [
  {
   "cell_type": "code",
   "execution_count": 1,
   "metadata": {},
   "outputs": [],
   "source": [
    "import purly"
   ]
  },
  {
   "cell_type": "code",
   "execution_count": 2,
   "metadata": {
    "scrolled": true
   },
   "outputs": [
    {
     "name": "stdout",
     "output_type": "stream",
     "text": [
      "[2018-07-29 14:38:29 -0700] [1476] [INFO] Goin' Fast @ http://127.0.0.1:8000\n",
      "[2018-07-29 14:38:29 -0700] [1476] [INFO] Starting worker [1476]\n",
      "[2018-07-29 14:38:30 -0700] - (sanic.access)[INFO][1:2]: GET http://127.0.0.1:8000/model/color-wheel/assets/index.html  200 573\n",
      "[2018-07-29 14:38:30 -0700] - (sanic.access)[INFO][1:2]: GET http://127.0.0.1:8000/model/color-wheel/assets/static/css/main.785d0ef8.css  200 118\n",
      "[2018-07-29 14:38:30 -0700] - (sanic.access)[INFO][1:2]: GET http://127.0.0.1:8000/model/color-wheel/assets/static/js/main.6da5cf05.js  200 192350\n",
      "[2018-07-29 14:38:30 -0700] - (sanic.access)[INFO][1:2]: GET http://127.0.0.1:8000/model/color-wheel/assets/static/css/main.785d0ef8.css.map  200 299\n",
      "[2018-07-29 14:38:30 -0700] - (sanic.access)[INFO][1:2]: GET http://127.0.0.1:8000/model/color-wheel/assets/static/js/main.6da5cf05.js.map  200 1731473\n",
      "[2018-07-29 14:38:35 -0700] [1476] [INFO] KeepAlive Timeout. Closing connection.\n",
      "[2018-07-29 14:38:35 -0700] [1476] [INFO] KeepAlive Timeout. Closing connection.\n",
      "[2018-07-29 14:38:51 -0700] [1476] [ERROR] Traceback (most recent call last):\n",
      "  File \"/home/ryan/conda/envs/Py3.6/lib/python3.6/site-packages/sanic/server.py\", line 220, in data_received\n",
      "    self.parser.feed_data(data)\n",
      "  File \"httptools/parser/parser.pyx\", line 193, in httptools.parser.parser.HttpParser.feed_data\n",
      "httptools.parser.errors.HttpParserInvalidMethodError: invalid HTTP method\n",
      "\n",
      "[2018-07-29 14:38:51 -0700] [1476] [ERROR] Traceback (most recent call last):\n",
      "  File \"/home/ryan/conda/envs/Py3.6/lib/python3.6/site-packages/sanic/server.py\", line 220, in data_received\n",
      "    self.parser.feed_data(data)\n",
      "  File \"httptools/parser/parser.pyx\", line 193, in httptools.parser.parser.HttpParser.feed_data\n",
      "httptools.parser.errors.HttpParserInvalidMethodError: invalid HTTP method\n",
      "\n",
      "[2018-07-29 14:38:51 -0700] [1476] [ERROR] Traceback (most recent call last):\n",
      "  File \"/home/ryan/conda/envs/Py3.6/lib/python3.6/site-packages/sanic/server.py\", line 220, in data_received\n",
      "    self.parser.feed_data(data)\n",
      "  File \"httptools/parser/parser.pyx\", line 193, in httptools.parser.parser.HttpParser.feed_data\n",
      "httptools.parser.errors.HttpParserInvalidMethodError: invalid HTTP method\n",
      "\n",
      "[2018-07-29 14:38:59 -0700] - (sanic.access)[INFO][1:2]: GET http://127.0.0.1:8000/model/color-wheel/assets/index.html  200 573\n",
      "[2018-07-29 14:38:59 -0700] - (sanic.access)[INFO][1:2]: GET http://127.0.0.1:8000/model/color-wheel/assets/static/css/main.785d0ef8.css  200 118\n",
      "[2018-07-29 14:38:59 -0700] - (sanic.access)[INFO][1:2]: GET http://127.0.0.1:8000/model/color-wheel/assets/static/js/main.6da5cf05.js  200 192350\n",
      "[2018-07-29 14:38:59 -0700] - (sanic.access)[INFO][1:2]: GET http://127.0.0.1:8000/model/color-wheel/assets/public/favicon.ico  200 3870\n",
      "[2018-07-29 14:39:04 -0700] [1476] [INFO] KeepAlive Timeout. Closing connection.\n",
      "[2018-07-29 14:39:04 -0700] [1476] [INFO] KeepAlive Timeout. Closing connection.\n",
      "[2018-07-29 14:40:17 -0700] - (sanic.access)[INFO][1:2]: GET http://127.0.0.1:8000/model/color-wheel/assets/index.html  200 573\n",
      "[2018-07-29 14:40:17 -0700] - (sanic.access)[INFO][1:2]: GET http://127.0.0.1:8000/model/color-wheel/assets/static/css/main.785d0ef8.css  200 118\n",
      "[2018-07-29 14:40:17 -0700] - (sanic.access)[INFO][1:2]: GET http://127.0.0.1:8000/model/color-wheel/assets/static/js/main.6da5cf05.js  200 192350\n",
      "[2018-07-29 14:40:21 -0700] - (sanic.access)[INFO][1:2]: GET http://127.0.0.1:8000/model/color-wheel/assets/index.html  200 573\n",
      "[2018-07-29 14:40:21 -0700] - (sanic.access)[INFO][1:2]: GET http://127.0.0.1:8000/model/color-wheel/assets/static/css/main.785d0ef8.css  200 118\n",
      "[2018-07-29 14:40:21 -0700] - (sanic.access)[INFO][1:2]: GET http://127.0.0.1:8000/model/color-wheel/assets/static/js/main.6da5cf05.js  200 192350\n",
      "[2018-07-29 14:40:23 -0700] - (sanic.access)[INFO][1:2]: GET http://127.0.0.1:8000/model/color-wheel/assets/index.html  200 573\n",
      "[2018-07-29 14:40:23 -0700] - (sanic.access)[INFO][1:2]: GET http://127.0.0.1:8000/model/color-wheel/assets/static/css/main.785d0ef8.css  200 118\n",
      "[2018-07-29 14:40:23 -0700] - (sanic.access)[INFO][1:2]: GET http://127.0.0.1:8000/model/color-wheel/assets/static/js/main.6da5cf05.js  200 192350\n",
      "[2018-07-29 14:40:28 -0700] [1476] [INFO] KeepAlive Timeout. Closing connection.\n",
      "[2018-07-29 14:40:28 -0700] [1476] [INFO] KeepAlive Timeout. Closing connection.\n"
     ]
    },
    {
     "name": "stderr",
     "output_type": "stream",
     "text": [
      "Error in data transfer\n",
      "Traceback (most recent call last):\n",
      "  File \"/home/ryan/conda/envs/Py3.6/lib/python3.6/site-packages/websockets/protocol.py\", line 669, in write_frame\n",
      "    yield from self.writer.drain()\n",
      "  File \"/home/ryan/conda/envs/Py3.6/lib/python3.6/asyncio/streams.py\", line 339, in drain\n",
      "    yield from self._protocol._drain_helper()\n",
      "  File \"/home/ryan/conda/envs/Py3.6/lib/python3.6/asyncio/streams.py\", line 210, in _drain_helper\n",
      "    raise ConnectionResetError('Connection lost')\n",
      "ConnectionResetError: Connection lost\n",
      "\n",
      "During handling of the above exception, another exception occurred:\n",
      "\n",
      "Traceback (most recent call last):\n",
      "  File \"/home/ryan/conda/envs/Py3.6/lib/python3.6/site-packages/websockets/protocol.py\", line 496, in transfer_data\n",
      "    msg = yield from self.read_message()\n",
      "  File \"/home/ryan/conda/envs/Py3.6/lib/python3.6/site-packages/websockets/protocol.py\", line 526, in read_message\n",
      "    frame = yield from self.read_data_frame(max_size=self.max_size)\n",
      "  File \"/home/ryan/conda/envs/Py3.6/lib/python3.6/site-packages/websockets/protocol.py\", line 602, in read_data_frame\n",
      "    yield from self.write_frame(OP_CLOSE, frame.data)\n",
      "  File \"/home/ryan/conda/envs/Py3.6/lib/python3.6/site-packages/websockets/protocol.py\", line 674, in write_frame\n",
      "    raise ConnectionClosed(self.close_code, self.close_reason)\n",
      "websockets.exceptions.ConnectionClosed: WebSocket connection is closed: code = 1001 (going away), no reason\n"
     ]
    }
   ],
   "source": [
    "from example_utils import localhost\n",
    "purly.state.Machine().daemon()\n",
    "\n",
    "# name the layout resource \"color-wheel\" and connect to the update stream\n",
    "websocket_url = localhost('ws', 8000) + '/model/color-wheel/stream'"
   ]
  },
  {
   "cell_type": "code",
   "execution_count": 3,
   "metadata": {},
   "outputs": [
    {
     "data": {
      "text/plain": [
       "'ws://127.0.0.1:8000/model/color-wheel/stream'"
      ]
     },
     "execution_count": 3,
     "metadata": {},
     "output_type": "execute_result"
    }
   ],
   "source": [
    "websocket_url"
   ]
  },
  {
   "cell_type": "code",
   "execution_count": 4,
   "metadata": {},
   "outputs": [],
   "source": [
    "layout = purly.Layout(websocket_url)"
   ]
  },
  {
   "cell_type": "code",
   "execution_count": 5,
   "metadata": {},
   "outputs": [],
   "source": [
    "def dot(radius, color, margin):\n",
    "    return layout.html('div', style=dict(\n",
    "        height=\"%spx\" % (radius * 2),\n",
    "        width=\"%spx\" % (radius * 2),\n",
    "        backgroundColor=color,\n",
    "        borderRadius=\"50%\",\n",
    "        margin=str(margin) + 'px',\n",
    "        display='inline-block'\n",
    "    ))\n",
    "\n",
    "\n",
    "def grid(x, y, size):\n",
    "    container = layout.html('div')\n",
    "    for i in range(y):\n",
    "        row = layout.html('div')\n",
    "        for j in range(x):\n",
    "            d = dot(size, 'blue', size / 2)\n",
    "            row.children.append(d)\n",
    "        container.children.append(row)\n",
    "    return container"
   ]
  },
  {
   "cell_type": "code",
   "execution_count": 6,
   "metadata": {},
   "outputs": [],
   "source": [
    "circle_size = 7\n",
    "\n",
    "g = grid(10, 5, circle_size)"
   ]
  },
  {
   "cell_type": "code",
   "execution_count": 7,
   "metadata": {},
   "outputs": [
    {
     "data": {
      "text/html": [
       "<iframe src='http://127.0.0.1:8000/model/color-wheel/assets/index.html' frameBorder=\"0\"></iframe>"
      ],
      "text/plain": [
       "<purly.layout.Layout at 0x7fb9956ab048>"
      ]
     },
     "execution_count": 7,
     "metadata": {},
     "output_type": "execute_result"
    }
   ],
   "source": [
    "layout.children.clear()\n",
    "layout.children.append(g)\n",
    "layout.sync()\n",
    "layout"
   ]
  },
  {
   "cell_type": "code",
   "execution_count": null,
   "metadata": {},
   "outputs": [],
   "source": [
    "drag = {}\n",
    "selection = set()\n",
    "\n",
    "\n",
    "def select(drag):\n",
    "    y_start, y_end = sorted([\n",
    "        drag['start']['y'] // (circle_size * 3),\n",
    "        drag['end']['y'] // (circle_size * 3),\n",
    "    ])\n",
    "    x_start, x_end = sorted([\n",
    "        drag['start']['x'] // (circle_size * 3),\n",
    "        drag['end']['x'] // (circle_size * 3),\n",
    "    ])\n",
    "    to_select = set()\n",
    "    for i in range(y_start, y_end):\n",
    "        try:\n",
    "            row = g.children[i]\n",
    "        except IndexError:\n",
    "            break\n",
    "        for j in range(x_start, x_end):\n",
    "            try:\n",
    "                new = row.children[j]\n",
    "            except IndexError:\n",
    "                break\n",
    "            else:\n",
    "                to_select.add(new)\n",
    "    for element in selection.difference(to_select):\n",
    "        element.style['backgroundColor'] = 'blue'\n",
    "        if element in selection:\n",
    "            selection.remove(element)\n",
    "    for element in to_select.difference(selection):\n",
    "        element.style['backgroundColor'] = 'red'\n",
    "        selection.add(element)\n",
    "\n",
    "\n",
    "@g.on(\"DragStart\")\n",
    "def drag_start(clientX, clientY):    \n",
    "    drag['start'] = {'x': clientX, 'y': clientY}\n",
    "\n",
    "\n",
    "@g.on(\"Drag\")\n",
    "def dragging(clientX, clientY):\n",
    "    drag['end'] = {'x': clientX, 'y': clientY}\n",
    "    select(drag.copy())\n",
    "\n",
    "@g.on(\"DragEnd\")\n",
    "def drag_end(clientX, clientY):\n",
    "    drag.clear()\n",
    "\n",
    "\n",
    "\n",
    "layout.serve()"
   ]
  },
  {
   "cell_type": "code",
   "execution_count": null,
   "metadata": {},
   "outputs": [],
   "source": []
  }
 ],
 "metadata": {
  "kernelspec": {
   "display_name": "Python 3",
   "language": "python",
   "name": "python3"
  },
  "language_info": {
   "codemirror_mode": {
    "name": "ipython",
    "version": 3
   },
   "file_extension": ".py",
   "mimetype": "text/x-python",
   "name": "python",
   "nbconvert_exporter": "python",
   "pygments_lexer": "ipython3",
   "version": "3.6.6"
  }
 },
 "nbformat": 4,
 "nbformat_minor": 2
}
