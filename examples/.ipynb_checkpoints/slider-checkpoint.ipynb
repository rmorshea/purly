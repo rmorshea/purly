{
 "cells": [
  {
   "cell_type": "code",
   "execution_count": null,
   "metadata": {},
   "outputs": [],
   "source": [
    "import sys\n",
    "import purly"
   ]
  },
  {
   "cell_type": "markdown",
   "metadata": {},
   "source": [
    "To set things up we'll need to stand up our model server. By default the server has a max refresh rate of `25` hertz. However for this example to be convincingly smooth we'll want to bump that up to about `60`. If you want to unlock the refresh rate set `refresh=None`. We'll then hook up a layout object to a model resource (see the introductory example  or [read the docs](https://github.com/rmorshea/purly#purly) if this doesn't make sense)."
   ]
  },
  {
   "cell_type": "code",
   "execution_count": null,
   "metadata": {},
   "outputs": [],
   "source": [
    "from example_utils import localhost\n",
    "\n",
    "# increase model server refresh cap to 60 hertz.\n",
    "purly.state.Machine(refresh=60).daemon()\n",
    "\n",
    "# name the layout resource \"simple-slider\" and connect to the update stream\n",
    "websocket_url = localhost('ws', 8000) + '/model/simple-slider/stream'\n",
    "layout = purly.Layout(websocket_url)"
   ]
  },
  {
   "cell_type": "markdown",
   "metadata": {},
   "source": [
    "We'll then create a simple slider with values between 1 and 10 and add it to the layout before displaying."
   ]
  },
  {
   "cell_type": "code",
   "execution_count": null,
   "metadata": {},
   "outputs": [],
   "source": [
    "slider = layout.html('input', type='range', value=\"5\", min=1, max=10, step=1)\n",
    "layout.children.append(slider)\n",
    "layout.sync()\n",
    "layout"
   ]
  },
  {
   "cell_type": "markdown",
   "metadata": {},
   "source": [
    "You should now see the slider in the output above!\n",
    "\n",
    "However when you try to move it, nothing happens, so we'll need to hook into some mouse events to make the display animate. To do that requires the `onChange` event which can be captured via the `on` decorator of the `slider` element. The one detail that significant is passing the string `'value'` as a second argument to the decorator. This will sync the slider's value between Python and the browser when the event occurs.\n",
    "\n",
    "Once we've done that we can simply print out the now synced `slider.attributes['value']` as it changes."
   ]
  },
  {
   "cell_type": "code",
   "execution_count": null,
   "metadata": {},
   "outputs": [],
   "source": [
    "@slider.on('Change', 'value')\n",
    "def printer():\n",
    "    sys.stdout.write('\\r%02d' % int(slider.attributes['value']))\n",
    "    sys.stdout.flush()"
   ]
  },
  {
   "cell_type": "code",
   "execution_count": null,
   "metadata": {
    "scrolled": false
   },
   "outputs": [],
   "source": [
    "layout.serve()"
   ]
  },
  {
   "cell_type": "code",
   "execution_count": null,
   "metadata": {},
   "outputs": [],
   "source": []
  }
 ],
 "metadata": {
  "kernelspec": {
   "display_name": "Python 3",
   "language": "python",
   "name": "python3"
  },
  "language_info": {
   "codemirror_mode": {
    "name": "ipython",
    "version": 3
   },
   "file_extension": ".py",
   "mimetype": "text/x-python",
   "name": "python",
   "nbconvert_exporter": "python",
   "pygments_lexer": "ipython3",
   "version": "3.6.6"
  }
 },
 "nbformat": 4,
 "nbformat_minor": 2
}
