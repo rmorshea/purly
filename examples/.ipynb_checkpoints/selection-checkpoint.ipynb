{
 "cells": [
  {
   "cell_type": "code",
   "execution_count": null,
   "metadata": {},
   "outputs": [],
   "source": [
    "import purly"
   ]
  },
  {
   "cell_type": "code",
   "execution_count": null,
   "metadata": {
    "scrolled": true
   },
   "outputs": [],
   "source": [
    "from example_utils import localhost\n",
    "purly.state.Machine().daemon()\n",
    "\n",
    "# name the layout resource \"color-wheel\" and connect to the update stream\n",
    "websocket_url = localhost('ws', 8000) + '/model/selection/stream'"
   ]
  },
  {
   "cell_type": "code",
   "execution_count": null,
   "metadata": {},
   "outputs": [],
   "source": [
    "layout = purly.Layout(websocket_url)"
   ]
  },
  {
   "cell_type": "code",
   "execution_count": null,
   "metadata": {},
   "outputs": [],
   "source": [
    "def grid(x, y, size):\n",
    "\n",
    "    container = layout.html('div', style={\"display\": \"table\"})\n",
    "    state = {\"dragging\": False, \"selection\": set(), \"start\": (0, 0), \"stop\": (0, 0)}\n",
    "    \n",
    "    def square(size, color, margin):\n",
    "        return layout.html(\n",
    "            'div',\n",
    "            style={\n",
    "                \"display\": \"table-cell\",\n",
    "                \"height\": \"%spx\" % size,\n",
    "                \"width\": \"%spx\" % size,\n",
    "                \"backgroundColor\": \"blue\",\n",
    "                \"border\": \"2px solid white\"\n",
    "            },\n",
    "        )\n",
    "    \n",
    "    def select():\n",
    "        new = set()\n",
    "        x1, y1 = state[\"start\"]\n",
    "        x2, y2 = state[\"stop\"]\n",
    "        start_x, stop_x = sorted([x1, x2])\n",
    "        start_y, stop_y = sorted([y1, y2])\n",
    "        for i in range(start_x, stop_x + 1):\n",
    "            for j in range(start_y, stop_y + 1):\n",
    "                new.add((i, j))\n",
    "        for (x, y) in state[\"selection\"].difference(new):\n",
    "            container.children[x].children[y].style[\"backgroundColor\"] = \"blue\"\n",
    "        for (x, y) in new:\n",
    "            container.children[x].children[y].style[\"backgroundColor\"] = \"red\"\n",
    "        state[\"selection\"].update(new)\n",
    "\n",
    "    def clear():\n",
    "        for (x, y) in state[\"selection\"]:\n",
    "            container.children[x].children[y].style[\"backgroundColor\"] = \"blue\"\n",
    "        state[\"selection\"].clear()\n",
    "\n",
    "    for i in range(y):\n",
    "        row = layout.html('div', style={\"display\": \"table-row\"})\n",
    "        for j in range(x):\n",
    "            sqr = square(size, 'blue', size)\n",
    "\n",
    "            @sqr.on(\"MouseDown\")\n",
    "            def drag_start(_x=i, _y=j):\n",
    "                state[\"stop\"] = state[\"start\"] = (_x, _y)\n",
    "                state[\"dragging\"] = True\n",
    "                select()\n",
    "\n",
    "            @sqr.on(\"MouseUp\")\n",
    "            def drag_stop():\n",
    "                if state[\"stop\"]:\n",
    "                    state[\"dragging\"] = False\n",
    "                    clear()\n",
    "\n",
    "            @sqr.on(\"MouseEnter\")\n",
    "            def drag_select(_x=i, _y=j):\n",
    "                if state[\"dragging\"]:\n",
    "                    if state[\"stop\"] != (_x, _y):\n",
    "                        state[\"stop\"] = (_x, _y)\n",
    "                        select()\n",
    "\n",
    "            row.children.append(sqr)\n",
    "        container.children.append(row)\n",
    "\n",
    "    return container"
   ]
  },
  {
   "cell_type": "code",
   "execution_count": null,
   "metadata": {},
   "outputs": [],
   "source": [
    "g = grid(30, 10, 30)"
   ]
  },
  {
   "cell_type": "code",
   "execution_count": null,
   "metadata": {},
   "outputs": [],
   "source": [
    "layout.children.clear()\n",
    "layout.sync()"
   ]
  },
  {
   "cell_type": "code",
   "execution_count": null,
   "metadata": {
    "scrolled": false
   },
   "outputs": [],
   "source": [
    "layout.children.append(g)\n",
    "layout.sync()"
   ]
  },
  {
   "cell_type": "code",
   "execution_count": null,
   "metadata": {
    "scrolled": false
   },
   "outputs": [],
   "source": [
    "layout"
   ]
  },
  {
   "cell_type": "code",
   "execution_count": null,
   "metadata": {},
   "outputs": [],
   "source": [
    "layout.serve()"
   ]
  },
  {
   "cell_type": "code",
   "execution_count": null,
   "metadata": {},
   "outputs": [],
   "source": []
  }
 ],
 "metadata": {
  "kernelspec": {
   "display_name": "Python 3",
   "language": "python",
   "name": "python3"
  },
  "language_info": {
   "codemirror_mode": {
    "name": "ipython",
    "version": 3
   },
   "file_extension": ".py",
   "mimetype": "text/x-python",
   "name": "python",
   "nbconvert_exporter": "python",
   "pygments_lexer": "ipython3",
   "version": "3.6.5"
  }
 },
 "nbformat": 4,
 "nbformat_minor": 2
}
