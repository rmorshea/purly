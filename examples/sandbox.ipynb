{
 "cells": [
  {
   "cell_type": "code",
   "execution_count": 1,
   "metadata": {},
   "outputs": [],
   "source": [
    "import io\n",
    "import json\n",
    "import purly\n",
    "import asyncio\n",
    "import contextlib\n",
    "import traceback\n",
    "from multiprocessing import Process\n",
    "from sanic import Sanic, response\n",
    "from sanic_cors import cross_origin"
   ]
  },
  {
   "cell_type": "code",
   "execution_count": 2,
   "metadata": {},
   "outputs": [],
   "source": [
    "@contextlib.contextmanager\n",
    "def output_to_layout(layout):\n",
    "    with io.StringIO() as buffer, contextlib.redirect_stdout(buffer):\n",
    "        try:\n",
    "            yield\n",
    "        except:\n",
    "            errors = traceback.format_exc()\n",
    "        else:\n",
    "            errors = \"\"\n",
    "        finally:\n",
    "            raw_output = buffer.getvalue() + errors\n",
    "            if raw_output:\n",
    "                output = layout.html(\"pre\", layout.html(\"code\", raw_output))\n",
    "                layout.children.append(output)\n",
    "                layout.sync()"
   ]
  },
  {
   "cell_type": "code",
   "execution_count": 3,
   "metadata": {},
   "outputs": [
    {
     "name": "stdout",
     "output_type": "stream",
     "text": [
      "[2018-10-03 07:32:17 -0700] [11250] [INFO] Goin' Fast @ http://127.0.0.1:8000\n",
      "[2018-10-03 07:32:17 -0700] [11250] [INFO] Starting worker [11250]\n"
     ]
    }
   ],
   "source": [
    "purly.state.Machine(cors=True).daemon()"
   ]
  },
  {
   "cell_type": "code",
   "execution_count": 4,
   "metadata": {},
   "outputs": [],
   "source": [
    "sandbox = Sanic()\n",
    "\n",
    "begin = asyncio.Event()\n",
    "begin.set()\n",
    "release = asyncio.Event()\n",
    "\n",
    "\n",
    "@sandbox.route(\"/exec\", methods=[\"POST\"])\n",
    "@cross_origin(sandbox)\n",
    "async def to_exe(request):\n",
    "    layout = purly.Layout(\"ws://127.0.0.1:8000/model/sandbox/stream\")\n",
    "    output = purly.Layout(\"ws://127.0.0.1:8000/model/sandbox-output/stream\")\n",
    "\n",
    "    global release\n",
    "    global begin\n",
    "\n",
    "    release.set()\n",
    "    await begin.wait()\n",
    "    \n",
    "    begin = asyncio.Event()\n",
    "    release = asyncio.Event()\n",
    "    \n",
    "    loop = asyncio.get_event_loop()\n",
    "\n",
    "    def _serve():\n",
    "        if not release.is_set():\n",
    "            loop.call_soon(_serve)\n",
    "            with output_to_layout(output):\n",
    "                layout.sync()\n",
    "        else:\n",
    "            layout.children.clear()\n",
    "            output.children.clear()\n",
    "            layout.sync()\n",
    "            output.sync()\n",
    "            begin.set()\n",
    "\n",
    "    with output_to_layout(output):\n",
    "        exec(request.json[\"code\"], {\"layout\": layout})\n",
    "\n",
    "    loop.call_soon(_serve)\n",
    "\n",
    "    return response.json({})"
   ]
  },
  {
   "cell_type": "code",
   "execution_count": 5,
   "metadata": {},
   "outputs": [
    {
     "name": "stdout",
     "output_type": "stream",
     "text": [
      "[2018-10-03 07:32:19 -0700] [11259] [INFO] Goin' Fast @ http://127.0.0.1:8001\n",
      "[2018-10-03 07:32:19 -0700] [11259] [INFO] Starting worker [11259]\n",
      "[2018-10-03 07:32:39 -0700] - (sanic.access)[INFO][127.0.0.1:56414]: POST http://127.0.0.1:8001/exec  200 2\n",
      "[2018-10-03 07:32:54 -0700] - (sanic.access)[INFO][127.0.0.1:56422]: POST http://127.0.0.1:8001/exec  200 2\n",
      "[2018-10-03 07:33:08 -0700] - (sanic.access)[INFO][127.0.0.1:56432]: POST http://127.0.0.1:8001/exec  200 2\n",
      "[2018-10-03 07:33:13 -0700] - (sanic.access)[INFO][127.0.0.1:56432]: POST http://127.0.0.1:8001/exec  200 2\n",
      "[2018-10-03 07:33:22 -0700] - (sanic.access)[INFO][127.0.0.1:56446]: POST http://127.0.0.1:8001/exec  200 2\n",
      "[2018-10-03 07:34:16 -0700] - (sanic.access)[INFO][127.0.0.1:56470]: POST http://127.0.0.1:8001/exec  200 2\n",
      "[2018-10-03 07:34:21 -0700] - (sanic.access)[INFO][127.0.0.1:56478]: POST http://127.0.0.1:8001/exec  200 2\n",
      "[2018-10-03 07:35:38 -0700] - (sanic.access)[INFO][127.0.0.1:56486]: POST http://127.0.0.1:8001/exec  200 2\n",
      "[2018-10-03 07:35:52 -0700] - (sanic.access)[INFO][127.0.0.1:56494]: POST http://127.0.0.1:8001/exec  200 2\n",
      "[2018-10-03 07:36:10 -0700] - (sanic.access)[INFO][127.0.0.1:56502]: POST http://127.0.0.1:8001/exec  200 2\n",
      "[2018-10-03 07:36:16 -0700] - (sanic.access)[INFO][127.0.0.1:56510]: POST http://127.0.0.1:8001/exec  200 2\n",
      "[2018-10-03 07:36:27 -0700] - (sanic.access)[INFO][127.0.0.1:56518]: POST http://127.0.0.1:8001/exec  200 2\n",
      "[2018-10-03 07:36:38 -0700] - (sanic.access)[INFO][127.0.0.1:56526]: POST http://127.0.0.1:8001/exec  200 2\n",
      "[2018-10-03 07:36:42 -0700] - (sanic.access)[INFO][127.0.0.1:56526]: POST http://127.0.0.1:8001/exec  200 2\n",
      "[2018-10-03 07:36:51 -0700] - (sanic.access)[INFO][127.0.0.1:56540]: POST http://127.0.0.1:8001/exec  200 2\n",
      "[2018-10-03 07:37:13 -0700] - (sanic.access)[INFO][127.0.0.1:56548]: POST http://127.0.0.1:8001/exec  200 2\n",
      "[2018-10-03 07:37:34 -0700] - (sanic.access)[INFO][127.0.0.1:56556]: POST http://127.0.0.1:8001/exec  200 2\n",
      "[2018-10-03 07:37:43 -0700] - (sanic.access)[INFO][127.0.0.1:56566]: POST http://127.0.0.1:8001/exec  200 2\n",
      "[2018-10-03 07:38:09 -0700] - (sanic.access)[INFO][127.0.0.1:56576]: POST http://127.0.0.1:8001/exec  200 2\n",
      "[2018-10-03 07:38:21 -0700] - (sanic.access)[INFO][127.0.0.1:56584]: POST http://127.0.0.1:8001/exec  200 2\n",
      "[2018-10-03 07:38:33 -0700] - (sanic.access)[INFO][127.0.0.1:56592]: POST http://127.0.0.1:8001/exec  200 2\n",
      "[2018-10-03 07:38:46 -0700] - (sanic.access)[INFO][127.0.0.1:56600]: POST http://127.0.0.1:8001/exec  200 2\n",
      "[2018-10-03 07:39:05 -0700] - (sanic.access)[INFO][127.0.0.1:56612]: POST http://127.0.0.1:8001/exec  200 2\n",
      "[2018-10-03 07:39:14 -0700] - (sanic.access)[INFO][127.0.0.1:56620]: POST http://127.0.0.1:8001/exec  200 2\n",
      "[2018-10-03 07:39:19 -0700] - (sanic.access)[INFO][127.0.0.1:56628]: POST http://127.0.0.1:8001/exec  200 2\n",
      "[2018-10-03 07:39:26 -0700] - (sanic.access)[INFO][127.0.0.1:56636]: POST http://127.0.0.1:8001/exec  200 2\n",
      "[2018-10-03 07:39:35 -0700] - (sanic.access)[INFO][127.0.0.1:56644]: POST http://127.0.0.1:8001/exec  200 2\n",
      "[2018-10-03 07:41:13 -0700] - (sanic.access)[INFO][127.0.0.1:56662]: POST http://127.0.0.1:8001/exec  200 2\n",
      "[2018-10-03 07:42:38 -0700] - (sanic.access)[INFO][127.0.0.1:56748]: POST http://127.0.0.1:8001/exec  200 2\n",
      "[2018-10-03 07:42:57 -0700] - (sanic.access)[INFO][127.0.0.1:56758]: POST http://127.0.0.1:8001/exec  200 2\n",
      "[2018-10-03 07:44:07 -0700] - (sanic.access)[INFO][127.0.0.1:56784]: POST http://127.0.0.1:8001/exec  200 2\n",
      "[2018-10-03 07:44:40 -0700] - (sanic.access)[INFO][127.0.0.1:56812]: POST http://127.0.0.1:8001/exec  200 2\n",
      "[2018-10-03 07:44:55 -0700] - (sanic.access)[INFO][127.0.0.1:56822]: POST http://127.0.0.1:8001/exec  200 2\n",
      "[2018-10-03 07:44:58 -0700] - (sanic.access)[INFO][127.0.0.1:56822]: POST http://127.0.0.1:8001/exec  200 2\n",
      "[2018-10-03 07:47:25 -0700] - (sanic.access)[INFO][127.0.0.1:56894]: POST http://127.0.0.1:8001/exec  200 2\n",
      "[2018-10-03 07:47:28 -0700] - (sanic.access)[INFO][127.0.0.1:56894]: POST http://127.0.0.1:8001/exec  200 2\n",
      "[2018-10-03 08:03:27 -0700] - (sanic.access)[INFO][127.0.0.1:36548]: POST http://127.0.0.1:8001/exec  200 2\n",
      "[2018-10-03 08:03:45 -0700] - (sanic.access)[INFO][127.0.0.1:36706]: POST http://127.0.0.1:8001/exec  200 2\n",
      "[2018-10-03 08:05:21 -0700] - (sanic.access)[INFO][127.0.0.1:37498]: POST http://127.0.0.1:8001/exec  200 2\n",
      "[2018-10-03 08:06:55 -0700] - (sanic.access)[INFO][127.0.0.1:38362]: POST http://127.0.0.1:8001/exec  200 2\n",
      "[2018-10-03 08:07:13 -0700] - (sanic.access)[INFO][127.0.0.1:38386]: POST http://127.0.0.1:8001/exec  200 2\n"
     ]
    }
   ],
   "source": [
    "Process(target=sandbox.run, kwargs=dict(port=8001), daemon=True).start()"
   ]
  },
  {
   "cell_type": "code",
   "execution_count": 13,
   "metadata": {},
   "outputs": [],
   "source": [
    "div = layout.html('div')\n",
    "layout.children.append(div)\n",
    "div.style.update(height='20px', width='20px', backgroundColor='red')\n",
    "\n",
    "@div.on('Click')\n",
    "def toggle():\n",
    "    print(\"changed\")\n",
    "    if div.style['backgroundColor'] == 'blue':\n",
    "        div.style['backgroundColor'] = 'red'\n",
    "    else:\n",
    "        div.style['backgroundColor'] = 'blue'"
   ]
  },
  {
   "cell_type": "code",
   "execution_count": null,
   "metadata": {},
   "outputs": [],
   "source": [
    "def hsl(radius, x, y):\n",
    "    \"\"\"Return an HSL color string.\"\"\"\n",
    "    x -= radius\n",
    "    y -= radius\n",
    "    unit_radius = int((x ** 2 + y **2) ** 0.5) / radius\n",
    "    degrees = int(math.atan2(x, y) * 180 / math.pi)\n",
    "    return \"hsl(%s, 100%%, %s%%)\" % (degrees, unit_radius * 100)\n",
    "\n",
    "\n",
    "radius = 50\n",
    "wheel = layout.html('div')\n",
    "wheel.style.update(\n",
    "    height=\"%spx\" % (radius * 2),\n",
    "    width=\"%spx\" % (radius * 2),\n",
    "    backgroundColor=\"hsl(120, 100%, 50%)\",\n",
    "    borderRadius=\"50%\",\n",
    ")\n",
    "\n",
    "\n",
    "selection = layout.html('div')\n",
    "selection.style.update(\n",
    "    height=\"20px\",\n",
    "    width=\"20px\",\n",
    "    backgroundColor=\"hsl(120, 100%, 50%)\",\n",
    ")\n",
    "\n",
    "\n",
    "layout.children.append(wheel)\n",
    "layout.children.append(selection)\n",
    "layout.sync()\n",
    "layout\n",
    "\n",
    "\n",
    "@wheel.on('MouseMove')\n",
    "def cause_color_change(offsetX, offsetY):\n",
    "    wheel.style[\"backgroundColor\"] = hsl(50, offsetX, offsetY)\n",
    "\n",
    "@wheel.on(\"Click\")\n",
    "def cause_color_select(offsetX, offsetY):\n",
    "    selection.style[\"backgroundColor\"] = hsl(50, offsetX, offsetY)"
   ]
  },
  {
   "cell_type": "code",
   "execution_count": null,
   "metadata": {},
   "outputs": [],
   "source": []
  }
 ],
 "metadata": {
  "kernelspec": {
   "display_name": "Python 3",
   "language": "python",
   "name": "python3"
  },
  "language_info": {
   "codemirror_mode": {
    "name": "ipython",
    "version": 3
   },
   "file_extension": ".py",
   "mimetype": "text/x-python",
   "name": "python",
   "nbconvert_exporter": "python",
   "pygments_lexer": "ipython3",
   "version": "3.6.6"
  }
 },
 "nbformat": 4,
 "nbformat_minor": 2
}
